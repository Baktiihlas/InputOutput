{
 "cells": [
  {
   "cell_type": "markdown",
   "id": "2e3e3879",
   "metadata": {},
   "source": [
    "<h1>InputOutput</h1>"
   ]
  },
  {
   "cell_type": "code",
   "execution_count": 2,
   "id": "ff4b3a3d",
   "metadata": {},
   "outputs": [
    {
     "name": "stdout",
     "output_type": "stream",
     "text": [
      "Isikan bilangan 1:10000\n",
      "Isikan bilangan 2:10000000\n",
      "Hasil 10000 + 10000000 = 10010000\n"
     ]
    }
   ],
   "source": [
    "bil1 = input('Isikan bilangan 1:')\n",
    "bil2 = input('Isikan bilangan 2:')\n",
    "hasil = int(bil1) + int(bil2)\n",
    "print(\"Hasil\", bil1, \"+\", bil2,\"=\",hasil)"
   ]
  },
  {
   "cell_type": "code",
   "execution_count": 17,
   "id": "1783e1ea",
   "metadata": {},
   "outputs": [
    {
     "name": "stdout",
     "output_type": "stream",
     "text": [
      "Isikan bilangan 1:15\n",
      "Isikan bilangan2:90\n",
      "Luas : 1350\n",
      "Keliling : 210\n"
     ]
    }
   ],
   "source": [
    "#Program untuk menghitung luas dan keliling persegi panjang \n",
    "Panjang = input('Isikan bilangan 1:')\n",
    "Lebar = input('Isikan bilangan2:')\n",
    "Luas = int(Panjang) * int(Lebar)\n",
    "Keliling = 2 * (int(Panjang) + int(Lebar))\n",
    "print(\"Luas :\", Luas)\n",
    "print(\"Keliling :\", Keliling)"
   ]
  },
  {
   "cell_type": "code",
   "execution_count": 16,
   "id": "6072dc26",
   "metadata": {},
   "outputs": [
    {
     "name": "stdout",
     "output_type": "stream",
     "text": [
      "A\n",
      "B\n",
      "C\n",
      "D:3"
     ]
    }
   ],
   "source": [
    "print(\"A\",\"B\",\"C\",\"D\", sep='\\n', end=\":3\") #sep = separator / pembatas sep='\\n'"
   ]
  },
  {
   "cell_type": "markdown",
   "id": "1d9aa707",
   "metadata": {},
   "source": [
    "<h3>Memformat dengan Index</h3>\n"
   ]
  },
  {
   "cell_type": "code",
   "execution_count": 19,
   "id": "5ff4d215",
   "metadata": {},
   "outputs": [
    {
     "name": "stdout",
     "output_type": "stream",
     "text": [
      "Hasil dari 8 modulus 10 = 8\n"
     ]
    }
   ],
   "source": [
    "num_1 = 8\n",
    "num_2 = 10\n",
    "\n",
    "#Hasil dari 8 modulus 10 = 8\n",
    "#str.format()\n",
    "\n",
    "print('Hasil dari {} modulus {} = {}'.format(num_1,num_2,num_1%num_2))"
   ]
  },
  {
   "cell_type": "markdown",
   "id": "6ef677cd",
   "metadata": {},
   "source": [
    "<h3>Memfotmat dengan Key</h3>"
   ]
  },
  {
   "cell_type": "code",
   "execution_count": 22,
   "id": "89d278e4",
   "metadata": {},
   "outputs": [
    {
     "name": "stdout",
     "output_type": "stream",
     "text": [
      "nama anda Muhammad Ezra Haikal\n"
     ]
    }
   ],
   "source": [
    "fname = \"Muhammad\"\n",
    "mname = \"Ezra\"\n",
    "lname = \"Haikal\"\n",
    "\n",
    "print('nama anda {0} {1} {2}'.format(fname,mname,lname))"
   ]
  },
  {
   "cell_type": "markdown",
   "id": "5338ad15",
   "metadata": {},
   "source": [
    "<h3>Pengenalan String</h3>"
   ]
  },
  {
   "cell_type": "code",
   "execution_count": 24,
   "id": "e9f5fb90",
   "metadata": {},
   "outputs": [
    {
     "name": "stdout",
     "output_type": "stream",
     "text": [
      "Nama anda Ecot, nilai anda 50\n"
     ]
    }
   ],
   "source": [
    "print('Nama anda {nama}, nilai anda {nilai}'.format(nama='Ecot',nilai=50))"
   ]
  },
  {
   "cell_type": "code",
   "execution_count": 29,
   "id": "3530e94d",
   "metadata": {},
   "outputs": [
    {
     "name": "stdout",
     "output_type": "stream",
     "text": [
      "Karakter pertama : U\n",
      "Karakter terakhir : g\n",
      "Universitas\n",
      "ndung\n",
      " Negri Bandung\n",
      "gnudnaB irgeN malsI satisrevinU\n"
     ]
    }
   ],
   "source": [
    "univ = \"Universitas Islam Negri Bandung\"\n",
    "\n",
    "print(\"Karakter pertama :\",univ[0])\n",
    "print(\"Karakter terakhir :\",univ[-1])\n",
    "#Universitas\n",
    "print(univ[0:11])\n",
    "print(univ[-5:])\n",
    "print(univ[17:])\n",
    "print(univ[::-1])"
   ]
  },
  {
   "cell_type": "code",
   "execution_count": 3,
   "id": "81f8bda4",
   "metadata": {},
   "outputs": [
    {
     "name": "stdout",
     "output_type": "stream",
     "text": [
      "Nama saya Ecot Purboyo\n",
      "Hasil penjumlahan 100 + 20 = 120\n"
     ]
    }
   ],
   "source": [
    "f_name = 'Ecot'\n",
    "l_name = 'Purboyo'\n",
    "\n",
    "print(f'Nama saya {f_name} {l_name}')\n",
    "\n",
    "pertama = 100\n",
    "kedua = 20\n",
    "\n",
    "print(f'Hasil penjumlahan {pertama} + {kedua} = {pertama+kedua}')"
   ]
  },
  {
   "cell_type": "code",
   "execution_count": 20,
   "id": "77c435ab",
   "metadata": {},
   "outputs": [
    {
     "name": "stdout",
     "output_type": "stream",
     "text": [
      "['Andri', 'Budi', 'Cika']\n",
      "['Andri', 'Budi', 'Cika']\n",
      "Andri@Budi@Cika\n",
      "masukan tanggal lahir : 15/November/2004\n",
      "masukan nama : Jhonn Mayer\n",
      "tanggal : 15, bulan : November, tahun : 2004\n",
      "Nama inisial : JM\n"
     ]
    }
   ],
   "source": [
    "nama = \"Andri,Budi,Cika\"\n",
    "nama2 = \" Andri Budi Cika\"\n",
    "#split -> memisahkan string berdasarkan karakter tertentu\n",
    "print(nama2.split())\n",
    "print(nama.split(','))\n",
    "\n",
    "#join -> menggabungkan string kedalam kumpulan karakter\n",
    "print('@'.join(nama.split(',')))\n",
    "\n",
    "#input tgl lahir-> 15/November/2004\n",
    "#input nama -> Jhonn Mayer\n",
    "#output :\n",
    "#Tgl : 15, Bulan:November, Tahun:2004\n",
    "#Nama Inisial : JM\n",
    "\n",
    "tgl = input(\"masukan tanggal lahir : \")\n",
    "nama = input(\"masukan nama : \")\n",
    "pemisah = tgl.split('/')\n",
    "print(f'tanggal : {pemisah[0]}, bulan : {pemisah[1]}, tahun : {pemisah[2]}')\n",
    "pemisah2 = nama.split()\n",
    "nama_pertama = pemisah2 [0]\n",
    "nama_terakhir = pemisah2 [1]\n",
    "print(f\"Nama inisial : {nama_pertama[0]+nama_terakhir[0]}\")"
   ]
  }
 ],
 "metadata": {
  "kernelspec": {
   "display_name": "Python 3 (ipykernel)",
   "language": "python",
   "name": "python3"
  },
  "language_info": {
   "codemirror_mode": {
    "name": "ipython",
    "version": 3
   },
   "file_extension": ".py",
   "mimetype": "text/x-python",
   "name": "python",
   "nbconvert_exporter": "python",
   "pygments_lexer": "ipython3",
   "version": "3.9.12"
  }
 },
 "nbformat": 4,
 "nbformat_minor": 5
}
